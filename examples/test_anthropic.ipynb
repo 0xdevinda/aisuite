{
 "cells": [
  {
   "cell_type": "code",
   "id": "initial_id",
   "metadata": {
    "collapsed": true,
    "ExecuteTime": {
     "end_time": "2024-07-02T23:20:19.015491Z",
     "start_time": "2024-07-02T23:20:19.004272Z"
    }
   },
   "source": [
    "import sys\n",
    "sys.path.append('../aimodels')\n",
    "\n",
    "from dotenv import load_dotenv, find_dotenv\n",
    "\n",
    "load_dotenv(find_dotenv())"
   ],
   "outputs": [
    {
     "data": {
      "text/plain": [
       "True"
      ]
     },
     "execution_count": 1,
     "metadata": {},
     "output_type": "execute_result"
    }
   ],
   "execution_count": 1
  },
  {
   "metadata": {
    "ExecuteTime": {
     "end_time": "2024-07-03T02:22:26.282827Z",
     "start_time": "2024-07-03T02:22:18.193996Z"
    }
   },
   "cell_type": "code",
   "source": [
    "from aimodels.client import MultiFMClient\n",
    "\n",
    "client = MultiFMClient()\n",
    "model_string = \"anthropic:claude-3-opus-20240229\"\n",
    "messages=[{\"role\": \"system\", \"content\": \"Respond in Pirate English.\"}, \n",
    "          {\"role\": \"user\", \"content\": \"Tell me a joke\"} ] \n",
    "\n",
    "response = client.chat.completions.create(model=model_string, messages=messages)\n",
    "print(response.choices[0].message.content)"
   ],
   "id": "adebd2f0b578a909",
   "outputs": [
    {
     "name": "stdout",
     "output_type": "stream",
     "text": [
      "Arrr, me bucko, 'ere be a jolly jest fer ye!\n",
      "\n",
      "What did th' pirate say on 'is 80th birthday? \"Aye matey!\"\n",
      "\n",
      "Ye see, it be a play on words, as \"Aye matey\" sounds like \"I'm eighty\". Har har har! 'Tis a clever bit o' pirate humor, if I do say so meself. Now, 'ow about ye fetch me a mug o' grog while I spin ye another yarn?\n"
     ]
    }
   ],
   "execution_count": 6
  }
 ],
 "metadata": {
  "kernelspec": {
   "display_name": "Python 3",
   "language": "python",
   "name": "python3"
  },
  "language_info": {
   "codemirror_mode": {
    "name": "ipython",
    "version": 2
   },
   "file_extension": ".py",
   "mimetype": "text/x-python",
   "name": "python",
   "nbconvert_exporter": "python",
   "pygments_lexer": "ipython2",
   "version": "2.7.6"
  }
 },
 "nbformat": 4,
 "nbformat_minor": 5
}
